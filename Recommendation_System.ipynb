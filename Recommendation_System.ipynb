{
  "nbformat": 4,
  "nbformat_minor": 0,
  "metadata": {
    "colab": {
      "provenance": [],
      "authorship_tag": "ABX9TyPyh5o/lUe4OTyhBHKCGwil",
      "include_colab_link": true
    },
    "kernelspec": {
      "name": "python3",
      "display_name": "Python 3"
    },
    "language_info": {
      "name": "python"
    }
  },
  "cells": [
    {
      "cell_type": "markdown",
      "metadata": {
        "id": "view-in-github",
        "colab_type": "text"
      },
      "source": [
        "<a href=\"https://colab.research.google.com/github/swtguha/Recommendation-System/blob/main/Recommendation_System.ipynb\" target=\"_parent\"><img src=\"https://colab.research.google.com/assets/colab-badge.svg\" alt=\"Open In Colab\"/></a>"
      ]
    },
    {
      "cell_type": "code",
      "execution_count": 91,
      "metadata": {
        "colab": {
          "base_uri": "https://localhost:8080/"
        },
        "id": "IGgirni8e0K5",
        "outputId": "090b5ea9-4df0-4c18-bfe3-3ca9656c7d22"
      },
      "outputs": [
        {
          "output_type": "stream",
          "name": "stdout",
          "text": [
            "Drive already mounted at /content/drive; to attempt to forcibly remount, call drive.mount(\"/content/drive\", force_remount=True).\n"
          ]
        }
      ],
      "source": [
        "from google.colab import drive\n",
        "drive.mount('/content/drive')\n",
        "file_path = \"/content/drive/My Drive/ratings_small.csv\"\n",
        "file_path1 = \"/content/drive/My Drive/movies_metadata.csv\""
      ]
    },
    {
      "cell_type": "code",
      "source": [
        "# Data manipulation\n",
        "import pandas as pd\n",
        "\n",
        "# Feature extraction and similarity computation\n",
        "from sklearn.feature_extraction.text import TfidfVectorizer\n",
        "from sklearn.metrics.pairwise import linear_kernel\n",
        "\n",
        "# Numerical computation (if needed)\n",
        "import numpy as np\n",
        "\n",
        "# Visualization (optional)\n",
        "import matplotlib.pyplot as plt"
      ],
      "metadata": {
        "id": "OdAmt5HNlQWn"
      },
      "execution_count": 92,
      "outputs": []
    },
    {
      "cell_type": "code",
      "source": [
        "df1 = pd.read_csv(file_path)\n",
        "df2 = pd.read_csv(file_path1)"
      ],
      "metadata": {
        "colab": {
          "base_uri": "https://localhost:8080/"
        },
        "id": "_-M7x2zfluAk",
        "outputId": "e796ba07-7b63-492a-9a83-9014a260da36"
      },
      "execution_count": 93,
      "outputs": [
        {
          "output_type": "stream",
          "name": "stderr",
          "text": [
            "<ipython-input-93-7a69ffc728dd>:2: DtypeWarning: Columns (10) have mixed types. Specify dtype option on import or set low_memory=False.\n",
            "  df2 = pd.read_csv(file_path1)\n"
          ]
        }
      ]
    },
    {
      "cell_type": "code",
      "source": [
        "#Data pre-processing for rating_small csv\n",
        "missingValues = df1.isnull().sum()\n",
        "\n",
        "# Calculate the percentage of missing values for each column\n",
        "missing_percentage = (missingValues / len(df1)) * 100\n",
        "\n",
        "# Combine missing values and percentage into a DataFrame for better readability\n",
        "missing_summary = pd.DataFrame({\n",
        "    'Missing Values': missingValues,\n",
        "    'Percentage (%)': missing_percentage\n",
        "})\n",
        "\n",
        "# Display the summary\n",
        "print(missing_summary)\n",
        "\n",
        "\n"
      ],
      "metadata": {
        "colab": {
          "base_uri": "https://localhost:8080/"
        },
        "id": "KLd9GJCynPZD",
        "outputId": "46ec06bf-28de-477a-9ad0-fba0cbdcfdcf"
      },
      "execution_count": 94,
      "outputs": [
        {
          "output_type": "stream",
          "name": "stdout",
          "text": [
            "           Missing Values  Percentage (%)\n",
            "userId                  0             0.0\n",
            "movieId                 0             0.0\n",
            "rating                  0             0.0\n",
            "timestamp               0             0.0\n"
          ]
        }
      ]
    },
    {
      "cell_type": "code",
      "source": [
        "# Identify categorical columns\n",
        "categorical_cols = df2.select_dtypes(include=['object', 'category']).columns\n",
        "\n",
        "# Identify numeric columns\n",
        "numeric_cols = df2.select_dtypes(include=['number']).columns\n",
        "\n",
        "\n",
        "\n",
        "\n",
        "# Check missing values in categorical columns\n",
        "missing_values_categorical = df2[categorical_cols].isnull().sum()\n",
        "print(\"Missing values in categorical columns:\")\n",
        "print(missing_values_categorical)"
      ],
      "metadata": {
        "colab": {
          "base_uri": "https://localhost:8080/"
        },
        "id": "SQ-7nDrZoLRE",
        "outputId": "3fbdd03e-e1d0-41e4-e72e-5dae4e4bbf3f"
      },
      "execution_count": 95,
      "outputs": [
        {
          "output_type": "stream",
          "name": "stdout",
          "text": [
            "Missing values in categorical columns:\n",
            "adult                        0\n",
            "belongs_to_collection    40972\n",
            "budget                       0\n",
            "genres                       0\n",
            "homepage                 37684\n",
            "id                           0\n",
            "imdb_id                     17\n",
            "original_language           11\n",
            "original_title               0\n",
            "overview                   954\n",
            "popularity                   5\n",
            "poster_path                386\n",
            "production_companies         3\n",
            "production_countries         3\n",
            "release_date                87\n",
            "spoken_languages             6\n",
            "status                      87\n",
            "tagline                  25054\n",
            "title                        6\n",
            "video                        6\n",
            "dtype: int64\n"
          ]
        }
      ]
    },
    {
      "cell_type": "code",
      "source": [
        "print(df2['popularity'].dtype)\n",
        "print(df2['popularity'].head(5))"
      ],
      "metadata": {
        "colab": {
          "base_uri": "https://localhost:8080/"
        },
        "id": "1Mmy3Juv9oRB",
        "outputId": "5cd7261e-e448-4f66-fbf9-ca8e8ff32b5f"
      },
      "execution_count": 96,
      "outputs": [
        {
          "output_type": "stream",
          "name": "stdout",
          "text": [
            "object\n",
            "0    21.946943\n",
            "1    17.015539\n",
            "2      11.7129\n",
            "3     3.859495\n",
            "4     8.387519\n",
            "Name: popularity, dtype: object\n"
          ]
        }
      ]
    },
    {
      "cell_type": "code",
      "source": [
        "# Convert 'popularity' to numeric, coercing errors to NaN\n",
        "df2['popularity'] = pd.to_numeric(df2['popularity'], errors='coerce')"
      ],
      "metadata": {
        "id": "cKzK7duP9_Uc"
      },
      "execution_count": 97,
      "outputs": []
    },
    {
      "cell_type": "code",
      "source": [
        "df2['belongs_to_collection'].fillna('Unknown', inplace=True)\n",
        "df2['homepage'].fillna('Unknown', inplace=True)\n",
        "df2['tagline'].fillna('Unknown', inplace=True)\n",
        "df2['overview'].fillna('No Overview', inplace=True)\n",
        "df2['poster_path'].fillna('Unknown', inplace=True)\n",
        "# Fill missing values in 'popularity' with the median value\n",
        "df2['popularity'].fillna(df2['popularity'].median(), inplace=True)\n",
        "\n",
        "# Fill missing values in production_companies and production_countries with 'Unknown'\n",
        "df2['production_companies'].fillna('Unknown', inplace=True)\n",
        "df2['production_countries'].fillna('Unknown', inplace=True)\n",
        "\n",
        "# Fill missing values in release_date with a placeholder (e.g., 'Unknown' or a default date)\n",
        "df2['release_date'].fillna('Unknown', inplace=True)\n",
        "\n",
        "# Fill missing values in spoken_languages with 'Unknown'\n",
        "df2['spoken_languages'].fillna('Unknown', inplace=True)\n",
        "\n",
        "# Fill missing values in status with 'Unknown'\n",
        "df2['status'].fillna('Unknown', inplace=True)\n",
        "\n",
        "# Fill missing values in title and video with 'Unknown'\n",
        "df2['title'].fillna('Unknown', inplace=True)\n",
        "df2['video'].fillna('Unknown', inplace=True)\n",
        "\n",
        "# Remove rows with missing values in critical columns if necessary\n",
        "df2.dropna(subset=['imdb_id', 'original_language'], inplace=True)\n"
      ],
      "metadata": {
        "id": "b99q8chVogQL"
      },
      "execution_count": 98,
      "outputs": []
    },
    {
      "cell_type": "code",
      "source": [
        "# Check missing values in categorical columns\n",
        "missing_values_categorical = df2[categorical_cols].isnull().sum()\n",
        "print(\"Missing values in categorical columns:\")\n",
        "print(missing_values_categorical)"
      ],
      "metadata": {
        "colab": {
          "base_uri": "https://localhost:8080/"
        },
        "id": "Mt-3wYkMzEGz",
        "outputId": "3b18472e-d9a5-4489-a65f-ea898300714c"
      },
      "execution_count": 99,
      "outputs": [
        {
          "output_type": "stream",
          "name": "stdout",
          "text": [
            "Missing values in categorical columns:\n",
            "adult                    0\n",
            "belongs_to_collection    0\n",
            "budget                   0\n",
            "genres                   0\n",
            "homepage                 0\n",
            "id                       0\n",
            "imdb_id                  0\n",
            "original_language        0\n",
            "original_title           0\n",
            "overview                 0\n",
            "popularity               0\n",
            "poster_path              0\n",
            "production_companies     0\n",
            "production_countries     0\n",
            "release_date             0\n",
            "spoken_languages         0\n",
            "status                   0\n",
            "tagline                  0\n",
            "title                    0\n",
            "video                    0\n",
            "dtype: int64\n"
          ]
        }
      ]
    },
    {
      "cell_type": "code",
      "source": [
        "# Sample a subset of 5000 movies\n",
        "sample_size = 5000\n",
        "df2_sampled = df2.sample(n=sample_size, random_state=42)\n",
        "df2_sampled.reset_index(drop=True, inplace=True)\n",
        "print(df2_sampled[\"id\"].head(5))"
      ],
      "metadata": {
        "colab": {
          "base_uri": "https://localhost:8080/"
        },
        "id": "pSdxJCiyXvZu",
        "outputId": "0395f0b7-aa99-4e9e-b440-71369a4fb6bb"
      },
      "execution_count": 100,
      "outputs": [
        {
          "output_type": "stream",
          "name": "stdout",
          "text": [
            "0     21585\n",
            "1    254320\n",
            "2     12163\n",
            "3     32834\n",
            "4     74237\n",
            "Name: id, dtype: object\n"
          ]
        }
      ]
    },
    {
      "cell_type": "code",
      "source": [
        "print(df2_sampled.shape)"
      ],
      "metadata": {
        "colab": {
          "base_uri": "https://localhost:8080/"
        },
        "id": "QrrD_JXqt5iO",
        "outputId": "9162c5e6-cd84-42cd-f345-20a4ac27ef87"
      },
      "execution_count": 101,
      "outputs": [
        {
          "output_type": "stream",
          "name": "stdout",
          "text": [
            "(5000, 24)\n"
          ]
        }
      ]
    },
    {
      "cell_type": "code",
      "source": [
        "print(df2_sampled.head(5))"
      ],
      "metadata": {
        "colab": {
          "base_uri": "https://localhost:8080/"
        },
        "id": "gNmlCwRffKBq",
        "outputId": "2b054ede-cb1b-4a54-cf64-e73fc03ef158"
      },
      "execution_count": 102,
      "outputs": [
        {
          "output_type": "stream",
          "name": "stdout",
          "text": [
            "   adult                              belongs_to_collection   budget  \\\n",
            "0  False                                            Unknown        0   \n",
            "1  False                                            Unknown  4000000   \n",
            "2  False                                            Unknown  6000000   \n",
            "3  False  {'id': 368982, 'name': 'MVP', 'poster_path': '...        0   \n",
            "4  False                                            Unknown        0   \n",
            "\n",
            "                                              genres  \\\n",
            "0                     [{'id': 35, 'name': 'Comedy'}]   \n",
            "1  [{'id': 53, 'name': 'Thriller'}, {'id': 35, 'n...   \n",
            "2  [{'id': 18, 'name': 'Drama'}, {'id': 10749, 'n...   \n",
            "3  [{'id': 28, 'name': 'Action'}, {'id': 12, 'nam...   \n",
            "4  [{'id': 99, 'name': 'Documentary'}, {'id': 104...   \n",
            "\n",
            "                                            homepage      id    imdb_id  \\\n",
            "0                                            Unknown   21585  tt0195691   \n",
            "1  http://tickets.picturehouseentertainment.co.uk...  254320  tt3464902   \n",
            "2                   http://www.thewrestlermovie.com/   12163  tt1125849   \n",
            "3                                            Unknown   32834  tt0196106   \n",
            "4                      http://www.nickdrakefilm.com/   74237  tt0264013   \n",
            "\n",
            "  original_language                                  original_title  \\\n",
            "0                en  Robin Williams: An Evening with Robin Williams   \n",
            "1                en                                     The Lobster   \n",
            "2                en                                    The Wrestler   \n",
            "3                en                      MVP: Most Valuable Primate   \n",
            "4                en          A Skin Too Few: The Days of Nick Drake   \n",
            "\n",
            "                                            overview  ...  release_date  \\\n",
            "0  Declared to be the funniest Robin Williams vid...  ...    1982-01-01   \n",
            "1  In a dystopian near future, single people, acc...  ...    2015-10-08   \n",
            "2  Aging wrestler Randy \"The Ram\" Robinson is lon...  ...    2008-09-07   \n",
            "3  Jack is a three-year-old chimpanzee who has be...  ...    2000-08-11   \n",
            "4  A study, mostly chronological, of the life of ...  ...    2002-04-19   \n",
            "\n",
            "      revenue runtime                                   spoken_languages  \\\n",
            "0         0.0    82.0           [{'iso_639_1': 'en', 'name': 'English'}]   \n",
            "1  15656193.0   118.0  [{'iso_639_1': 'en', 'name': 'English'}, {'iso...   \n",
            "2  44703995.0   109.0           [{'iso_639_1': 'en', 'name': 'English'}]   \n",
            "3         0.0    93.0           [{'iso_639_1': 'en', 'name': 'English'}]   \n",
            "4         0.0    48.0           [{'iso_639_1': 'en', 'name': 'English'}]   \n",
            "\n",
            "     status                                            tagline  \\\n",
            "0  Released                                            Unknown   \n",
            "1  Released                    An unconventional love story...   \n",
            "2  Released                                 Love. Pain. Glory.   \n",
            "3  Released  Jack skates a little faster... Shoots a little...   \n",
            "4  Released                                            Unknown   \n",
            "\n",
            "                                            title  video vote_average  \\\n",
            "0  Robin Williams: An Evening with Robin Williams  False          7.0   \n",
            "1                                     The Lobster  False          6.7   \n",
            "2                                    The Wrestler  False          7.3   \n",
            "3                      MVP: Most Valuable Primate  False          4.5   \n",
            "4          A Skin Too Few: The Days of Nick Drake  False          7.3   \n",
            "\n",
            "  vote_count  \n",
            "0       11.0  \n",
            "1     1340.0  \n",
            "2     1031.0  \n",
            "3       12.0  \n",
            "4        6.0  \n",
            "\n",
            "[5 rows x 24 columns]\n"
          ]
        }
      ]
    },
    {
      "cell_type": "code",
      "source": [
        "#Feature Extraction\n",
        "\n",
        "from sklearn.feature_extraction.text import TfidfVectorizer\n",
        "\n",
        "# Extract features from the overview text\n",
        "tfidf_vectorizer = TfidfVectorizer(stop_words='english')\n",
        "tfidf_matrix = tfidf_vectorizer.fit_transform(df2_sampled['overview'])\n",
        "print(tfidf_matrix.shape)"
      ],
      "metadata": {
        "colab": {
          "base_uri": "https://localhost:8080/"
        },
        "id": "jK739qR-TDMU",
        "outputId": "f69b2680-b373-4995-e286-4f2f9ec91576"
      },
      "execution_count": 103,
      "outputs": [
        {
          "output_type": "stream",
          "name": "stdout",
          "text": [
            "(5000, 24617)\n"
          ]
        }
      ]
    },
    {
      "cell_type": "code",
      "source": [
        "\n",
        "\n",
        "# Extract genres features\n",
        "# Convert genres to a list of lists\n",
        "df2_sampled['genres'] = df2_sampled['genres'].apply(lambda x: x.split('|'))\n",
        "\n",
        "from sklearn.preprocessing import MultiLabelBinarizer\n",
        "\n",
        "mlb = MultiLabelBinarizer()\n",
        "genres_matrix = mlb.fit_transform(df2_sampled['genres'])"
      ],
      "metadata": {
        "id": "EI7n0sSGCVJ7"
      },
      "execution_count": 104,
      "outputs": []
    },
    {
      "cell_type": "code",
      "source": [
        "#Feature Combination\n",
        "\n",
        "from scipy.sparse import hstack\n",
        "\n",
        "# Combine text features and genres features\n",
        "features_matrix = hstack([tfidf_matrix, genres_matrix])"
      ],
      "metadata": {
        "id": "TN9vDm-SOL_F"
      },
      "execution_count": 105,
      "outputs": []
    },
    {
      "cell_type": "code",
      "source": [
        "#Similarity Calculation\n",
        "from sklearn.metrics.pairwise import cosine_similarity\n",
        "\n",
        "\n",
        "# Compute similarity matrix on reduced dimensions\n",
        "cosine_sim= cosine_similarity(features_matrix, features_matrix)\n",
        "print(cosine_sim.shape)\n",
        "print(cosine_sim)"
      ],
      "metadata": {
        "colab": {
          "base_uri": "https://localhost:8080/"
        },
        "id": "MRUf-sloRm-b",
        "outputId": "adfe2757-2a93-4d28-f140-57f1d9e15f47"
      },
      "execution_count": 106,
      "outputs": [
        {
          "output_type": "stream",
          "name": "stdout",
          "text": [
            "(5000, 5000)\n",
            "[[1.         0.         0.         ... 0.         0.         0.        ]\n",
            " [0.         1.         0.         ... 0.         0.         0.        ]\n",
            " [0.         0.         1.         ... 0.5        0.         0.        ]\n",
            " ...\n",
            " [0.         0.         0.5        ... 1.         0.         0.        ]\n",
            " [0.         0.         0.         ... 0.         1.         0.01403677]\n",
            " [0.         0.         0.         ... 0.         0.01403677 1.        ]]\n"
          ]
        }
      ]
    },
    {
      "cell_type": "code",
      "source": [
        "print(\"Columns in df2_sampled:\", df2_sampled.columns)"
      ],
      "metadata": {
        "colab": {
          "base_uri": "https://localhost:8080/"
        },
        "id": "vU2mj12-kbei",
        "outputId": "799ca1a1-83f6-48be-9106-8644deb3afcf"
      },
      "execution_count": 107,
      "outputs": [
        {
          "output_type": "stream",
          "name": "stdout",
          "text": [
            "Columns in df2_sampled: Index(['adult', 'belongs_to_collection', 'budget', 'genres', 'homepage', 'id',\n",
            "       'imdb_id', 'original_language', 'original_title', 'overview',\n",
            "       'popularity', 'poster_path', 'production_companies',\n",
            "       'production_countries', 'release_date', 'revenue', 'runtime',\n",
            "       'spoken_languages', 'status', 'tagline', 'title', 'video',\n",
            "       'vote_average', 'vote_count'],\n",
            "      dtype='object')\n"
          ]
        }
      ]
    },
    {
      "cell_type": "code",
      "source": [
        "# Construct a reverse map of indices and movie titles\n",
        "indices = pd.Series(df2_sampled.index, index=df2_sampled['original_title']).drop_duplicates()\n",
        "print(indices.head(5))\n",
        "\n",
        "def get_movie_id_from_title(title, indices):\n",
        "    \"\"\"\n",
        "    Get the movie index for a given movie title using the reverse map.\n",
        "\n",
        "    Parameters:\n",
        "    - title: Title of the movie\n",
        "    - indices: Series mapping movie titles to their indices\n",
        "\n",
        "    Returns:\n",
        "    - Index of the movie if found, else None\n",
        "    \"\"\"\n",
        "\n",
        "\n",
        "    # Check if the title exists in the indices and return the corresponding index\n",
        "    if title in indices:\n",
        "        return indices[title]\n",
        "    else:\n",
        "        return None"
      ],
      "metadata": {
        "colab": {
          "base_uri": "https://localhost:8080/"
        },
        "id": "zg-Hji1uj-Ys",
        "outputId": "0213058e-5503-4d17-ecbb-85dba05a42e3"
      },
      "execution_count": 108,
      "outputs": [
        {
          "output_type": "stream",
          "name": "stdout",
          "text": [
            "original_title\n",
            "Robin Williams: An Evening with Robin Williams    0\n",
            "The Lobster                                       1\n",
            "The Wrestler                                      2\n",
            "MVP: Most Valuable Primate                        3\n",
            "A Skin Too Few: The Days of Nick Drake            4\n",
            "dtype: int64\n"
          ]
        }
      ]
    },
    {
      "cell_type": "code",
      "source": [
        "def compute_similarity_scores(cosine_sim, top_n: int=10):\n",
        "    # Get similarity scores for the movie\n",
        "    sim_scores = list(enumerate(cosine_sim))\n",
        "\n",
        "    # Sort movies based on similarity scores and get the top N similar movies\n",
        "    sim_scores = sorted(sim_scores, key=lambda x: x[1], reverse=True)\n",
        "    sim_scores = sim_scores[1:top_n+1]  # Exclude the movie itself and get top N\n",
        "    return sim_scores\n",
        "\n",
        "def get_recommendations_by_title(title, df2_sampled, cosine_sim, indices, top_n: int=10):\n",
        "    \"\"\"\n",
        "    Get top N movie recommendations based on cosine similarity using movie title.\n",
        "\n",
        "    Parameters:\n",
        "    - title: Title of the movie for which recommendations are to be generated\n",
        "    - df2_sampled: DataFrame containing the sampled movies\n",
        "    - cosine_sim: Cosine similarity matrix\n",
        "    - indices: Series mapping movie titles to their indices\n",
        "    - top_n: Number of top recommendations to return\n",
        "\n",
        "    Returns:\n",
        "    - DataFrame with recommended movies\n",
        "    \"\"\"\n",
        "    idx = get_movie_id_from_title(title, indices)\n",
        "    print(idx)\n",
        "\n",
        "    if idx is None:\n",
        "        print(f\"Movie '{title}' not found in the dataset.\")\n",
        "        return pd.DataFrame()\n",
        "\n",
        "    # Validate index\n",
        "    if idx >= cosine_sim.shape[0]:\n",
        "        print(f\"Index {idx} is out of bounds for the similarity matrix with size {cosine_sim.shape[0]}.\")\n",
        "        return pd.DataFrame()\n",
        "\n",
        "    # Get similarity scores for the movie\n",
        "    sim_scores = compute_similarity_scores(cosine_sim=cosine_sim[idx], top_n=top_n)\n",
        "\n",
        "    # Get movie indices from similarity scores\n",
        "    movie_indices = [i[0] for i in sim_scores]\n",
        "\n",
        "    # Check if indices are within bounds\n",
        "    valid_indices = [i for i in movie_indices if i < cosine_sim.shape[0]]\n",
        "    if not valid_indices:\n",
        "        print(\"No valid movie indices found for recommendations.\")\n",
        "        return pd.DataFrame()\n",
        "\n",
        "    # Return the top N most similar movies\n",
        "    return df2_sampled[['original_title', 'genres']].iloc[valid_indices]\n",
        "\n",
        "# Example usage\n",
        "movie_title_example = 'Robin Williams: An Evening with Robin Williams'\n",
        "recommended_movies = get_recommendations_by_title(movie_title_example, df2_sampled, cosine_sim, indices)\n",
        "print(recommended_movies)\n",
        "\n",
        "# print(f\"Size of DataFrame: {df2_sampled.shape}\")\n",
        "# print(f\"Size of Similarity Matrix: {cosine_sim.shape}\")\n",
        "# print(f\"Size of Indices Series: {indices.shape}\")"
      ],
      "metadata": {
        "colab": {
          "base_uri": "https://localhost:8080/"
        },
        "id": "3cT3wELZkD2m",
        "outputId": "49c3c9fe-259c-42ca-8d68-339b564eb9c5"
      },
      "execution_count": 109,
      "outputs": [
        {
          "output_type": "stream",
          "name": "stdout",
          "text": [
            "0\n",
            "                          original_title                            genres\n",
            "1627  Robin Williams: A Night at the Met  [[{'id': 35, 'name': 'Comedy'}]]\n",
            "520        Chris Gethard: Career Suicide  [[{'id': 35, 'name': 'Comedy'}]]\n",
            "2304                 Eddie Izzard: Sexie  [[{'id': 35, 'name': 'Comedy'}]]\n",
            "3403                    Thou Shalt Laugh  [[{'id': 35, 'name': 'Comedy'}]]\n",
            "363                    A Flea In Her Ear  [[{'id': 35, 'name': 'Comedy'}]]\n",
            "4008      Thou Shalt Laugh 2 - The Deuce  [[{'id': 35, 'name': 'Comedy'}]]\n",
            "1471                       Hollidaysburg  [[{'id': 35, 'name': 'Comedy'}]]\n",
            "4787                Zhenitba Balzaminova  [[{'id': 35, 'name': 'Comedy'}]]\n",
            "4528     Amy Schumer: Live at the Apollo  [[{'id': 35, 'name': 'Comedy'}]]\n",
            "1925                 Chlopaki nie placza  [[{'id': 35, 'name': 'Comedy'}]]\n"
          ]
        }
      ]
    },
    {
      "cell_type": "code",
      "source": [
        "print(df1['rating'].describe())\n",
        "print(df1['userId'].nunique())  # Number of unique users\n",
        "print(df1['movieId'].nunique())  # Number of unique movies"
      ],
      "metadata": {
        "colab": {
          "base_uri": "https://localhost:8080/"
        },
        "id": "vGOTU1_bdf5v",
        "outputId": "9a8f1ec5-f7ef-4797-fe16-0a3c67146814"
      },
      "execution_count": 110,
      "outputs": [
        {
          "output_type": "stream",
          "name": "stdout",
          "text": [
            "count    100004.000000\n",
            "mean          3.543608\n",
            "std           1.058064\n",
            "min           0.500000\n",
            "25%           3.000000\n",
            "50%           4.000000\n",
            "75%           4.000000\n",
            "max           5.000000\n",
            "Name: rating, dtype: float64\n",
            "671\n",
            "9066\n"
          ]
        }
      ]
    },
    {
      "cell_type": "code",
      "source": [
        "import seaborn as sns\n",
        "import matplotlib.pyplot as plt\n",
        "\n",
        "# Plot rating distribution\n",
        "plt.figure(figsize=(8, 6))\n",
        "sns.histplot(df1['rating'], bins=10, kde=False, color='blue')\n",
        "plt.title('Distribution of Ratings')\n",
        "plt.xlabel('Rating')\n",
        "plt.ylabel('Count')\n",
        "plt.show()"
      ],
      "metadata": {
        "colab": {
          "base_uri": "https://localhost:8080/",
          "height": 564
        },
        "id": "Kg2hClvnnvg0",
        "outputId": "d5437446-60cd-4e82-a50c-048ea1419168"
      },
      "execution_count": 111,
      "outputs": [
        {
          "output_type": "display_data",
          "data": {
            "text/plain": [
              "<Figure size 800x600 with 1 Axes>"
            ],
            "image/png": "[encoded data removed]"
          },
          "metadata": {}
        }
      ]
    },
    {
      "cell_type": "code",
      "source": [
        "print(df2_sampled.columns)"
      ],
      "metadata": {
        "colab": {
          "base_uri": "https://localhost:8080/"
        },
        "id": "Ckori-fMtmZu",
        "outputId": "43dd0401-a00e-44e7-b4d2-6e5c02a567ad"
      },
      "execution_count": 112,
      "outputs": [
        {
          "output_type": "stream",
          "name": "stdout",
          "text": [
            "Index(['adult', 'belongs_to_collection', 'budget', 'genres', 'homepage', 'id',\n",
            "       'imdb_id', 'original_language', 'original_title', 'overview',\n",
            "       'popularity', 'poster_path', 'production_companies',\n",
            "       'production_countries', 'release_date', 'revenue', 'runtime',\n",
            "       'spoken_languages', 'status', 'tagline', 'title', 'video',\n",
            "       'vote_average', 'vote_count'],\n",
            "      dtype='object')\n"
          ]
        }
      ]
    }
  ]
}